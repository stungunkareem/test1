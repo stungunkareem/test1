{
  "metadata": {
    "language_info": {
      "codemirror_mode": {
        "name": "python",
        "version": 3
      },
      "file_extension": ".py",
      "mimetype": "text/x-python",
      "name": "python",
      "nbconvert_exporter": "python",
      "pygments_lexer": "ipython3",
      "version": "3.8"
    },
    "kernelspec": {
      "name": "python",
      "display_name": "Python (Pyodide)",
      "language": "python"
    }
  },
  "nbformat_minor": 4,
  "nbformat": 4,
  "cells": [
    {
      "cell_type": "markdown",
      "source": "# IBM_Datascience",
      "metadata": {}
    },
    {
      "cell_type": "markdown",
      "source": "Introduction",
      "metadata": {}
    },
    {
      "cell_type": "markdown",
      "source": "Data Science Tools: \n1. Python\n2. R\n3. Java\n4. Julia\n5. Scala\n6. SQL",
      "metadata": {}
    },
    {
      "cell_type": "markdown",
      "source": "Data Science Libraries:\n1. Pandas\n2. numpy\n3. GGplot\n4. seaborn\n5. Keras\n6. Tensorflow\n7. sickit-learn",
      "metadata": {}
    },
    {
      "cell_type": "markdown",
      "source": "| Data Science tools      |\n| :---        |  \n| Anaconda      |\n| R-studio   | \n|zeppelin    |\n|mysql|",
      "metadata": {}
    },
    {
      "cell_type": "markdown",
      "source": "### example of arthemtic expressions in python ",
      "metadata": {}
    },
    {
      "cell_type": "code",
      "source": "#arthemtic expression of addition and multiplication\n(2+5)*3",
      "metadata": {
        "trusted": true
      },
      "execution_count": 2,
      "outputs": [
        {
          "execution_count": 2,
          "output_type": "execute_result",
          "data": {
            "text/plain": "21"
          },
          "metadata": {}
        }
      ]
    },
    {
      "cell_type": "code",
      "source": "#code to convert from 180 minutes to hours\n180/60",
      "metadata": {
        "trusted": true
      },
      "execution_count": 3,
      "outputs": [
        {
          "execution_count": 3,
          "output_type": "execute_result",
          "data": {
            "text/plain": "3.0"
          },
          "metadata": {}
        }
      ]
    },
    {
      "cell_type": "markdown",
      "source": "**Objectives**\n- create markdown cells\n- create code cells\n- styling for markdown cells\n- some arthemtic opreations ",
      "metadata": {}
    },
    {
      "cell_type": "markdown",
      "source": "## Author(s)\nKareem Ayman",
      "metadata": {}
    },
    {
      "cell_type": "code",
      "source": "",
      "metadata": {},
      "execution_count": null,
      "outputs": []
    }
  ]
}