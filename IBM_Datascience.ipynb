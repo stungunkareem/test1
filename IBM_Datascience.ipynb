{
  "metadata": {
    "language_info": {
      "codemirror_mode": {
        "name": "python",
        "version": 3
      },
      "file_extension": ".py",
      "mimetype": "text/x-python",
      "name": "python",
      "nbconvert_exporter": "python",
      "pygments_lexer": "ipython3",
      "version": "3.8"
    },
    "kernelspec": {
      "name": "python",
      "display_name": "Python (Pyodide)",
      "language": "python"
    }
  },
  "nbformat_minor": 4,
  "nbformat": 4,
  "cells": [
    {
      "cell_type": "markdown",
      "source": "IBM_Datascience",
      "metadata": {}
    },
    {
      "cell_type": "markdown",
      "source": "Introduction ",
      "metadata": {}
    },
    {
      "cell_type": "markdown",
      "source": "1. Python \n2. R\n3. SQL\n4. Scala\n5. Java\n6. Julia",
      "metadata": {}
    },
    {
      "cell_type": "markdown",
      "source": "1. Keras \n2. Tensorflow\n3. Sickit-learn\n4. Pandas\n5. Numpy\n6. Matplotlib\n7. GGplot",
      "metadata": {}
    },
    {
      "cell_type": "markdown",
      "source": "+ add\n- subtract\n* multiply\n/ divide \n(2+30)*5",
      "metadata": {}
    },
    {
      "cell_type": "code",
      "source": "(2+30)*5",
      "metadata": {
        "trusted": true
      },
      "execution_count": 2,
      "outputs": [
        {
          "execution_count": 2,
          "output_type": "execute_result",
          "data": {
            "text/plain": "160"
          },
          "metadata": {}
        }
      ]
    },
    {
      "cell_type": "code",
      "source": "x = 120\nmin_to_hour = x/60\nprint(min_to_hour)",
      "metadata": {
        "trusted": true
      },
      "execution_count": 6,
      "outputs": [
        {
          "name": "stdout",
          "text": "2.0\n",
          "output_type": "stream"
        }
      ]
    },
    {
      "cell_type": "markdown",
      "source": "1. Create a markdown cell with the title of the notebook. (1 pt)\n\n2. Create a markdown cell for an introduction. (1 pt)\n\n3. Create a markdown cell to list data science languages. (3 pts)\n\n4. Create a markdown cell to list data science libraries. (3 pts)\n\n5. Create a markdown cell with a table of Data Science tools. (3 pts)\n\n6. Create a markdown cell introducing arithmetic expression examples. (1 pt)\n\n7. Create a code cell to multiply and add numbers. (2 pts)\n\n8. Create a code cell to convert minutes to hours. (2 pts)\n\n9. Insert a markdown cell to list Objectives. (3 pts)\n\n10. Create a markdown cell to indicate the Author’s name. (2 pts)\n\n11. Share your notebook through GitHub (3 pts)\n\n12. Take a screenshot of the first page of the notebook. (1 pt)",
      "metadata": {}
    },
    {
      "cell_type": "markdown",
      "source": "Kareem Rezk",
      "metadata": {}
    },
    {
      "cell_type": "code",
      "source": "",
      "metadata": {},
      "execution_count": null,
      "outputs": []
    }
  ]
}